{
 "cells": [
  {
   "cell_type": "markdown",
   "metadata": {},
   "source": [
    "# Note-Saving Tool with Pydantic and Anthropic Tool Use\n",
    "\n",
    "In this example, we'll create a tool that saves a note with the author and metadata, and use Pydantic to validate the model's response when calling the tool. We'll define the necessary Pydantic models, process the tool call, and ensure that the model's response conforms to the expected schema."
   ]
  },
  {
   "cell_type": "markdown",
   "metadata": {},
   "source": [
    "## Step 1: Set up the environment\n",
    "First, let's install the required libraries and set up the Anthropic API client."
   ]
  },
  {
   "cell_type": "code",
   "execution_count": 16,
   "metadata": {},
   "outputs": [
    {
     "name": "stdout",
     "output_type": "stream",
     "text": [
      "Defaulting to user installation because normal site-packages is not writeable\n",
      "Requirement already satisfied: anthropic in /Users/xyz/Library/Python/3.9/lib/python/site-packages (0.42.0)\n",
      "Requirement already satisfied: pydantic in /Users/xyz/Library/Python/3.9/lib/python/site-packages (2.10.4)\n",
      "Requirement already satisfied: typing-extensions<5,>=4.10 in /Users/xyz/Library/Python/3.9/lib/python/site-packages (from anthropic) (4.12.2)\n",
      "Requirement already satisfied: distro<2,>=1.7.0 in /Users/xyz/Library/Python/3.9/lib/python/site-packages (from anthropic) (1.9.0)\n",
      "Requirement already satisfied: sniffio in /Users/xyz/Library/Python/3.9/lib/python/site-packages (from anthropic) (1.3.1)\n",
      "Requirement already satisfied: jiter<1,>=0.4.0 in /Users/xyz/Library/Python/3.9/lib/python/site-packages (from anthropic) (0.8.2)\n",
      "Requirement already satisfied: httpx<1,>=0.23.0 in /Users/xyz/Library/Python/3.9/lib/python/site-packages (from anthropic) (0.28.1)\n",
      "Requirement already satisfied: anyio<5,>=3.5.0 in /Users/xyz/Library/Python/3.9/lib/python/site-packages (from anthropic) (4.8.0)\n",
      "Requirement already satisfied: pydantic-core==2.27.2 in /Users/xyz/Library/Python/3.9/lib/python/site-packages (from pydantic) (2.27.2)\n",
      "Requirement already satisfied: annotated-types>=0.6.0 in /Users/xyz/Library/Python/3.9/lib/python/site-packages (from pydantic) (0.7.0)\n",
      "Requirement already satisfied: email-validator>=2.0.0 in /Users/xyz/Library/Python/3.9/lib/python/site-packages (from pydantic) (2.2.0)\n",
      "Requirement already satisfied: idna>=2.8 in /Users/xyz/Library/Python/3.9/lib/python/site-packages (from anyio<5,>=3.5.0->anthropic) (3.10)\n",
      "Requirement already satisfied: exceptiongroup>=1.0.2 in /Users/xyz/Library/Python/3.9/lib/python/site-packages (from anyio<5,>=3.5.0->anthropic) (1.2.2)\n",
      "Requirement already satisfied: dnspython>=2.0.0 in /Users/xyz/Library/Python/3.9/lib/python/site-packages (from email-validator>=2.0.0->pydantic) (2.7.0)\n",
      "Requirement already satisfied: httpcore==1.* in /Users/xyz/Library/Python/3.9/lib/python/site-packages (from httpx<1,>=0.23.0->anthropic) (1.0.7)\n",
      "Requirement already satisfied: certifi in /Users/xyz/Library/Python/3.9/lib/python/site-packages (from httpx<1,>=0.23.0->anthropic) (2024.12.14)\n",
      "Requirement already satisfied: h11<0.15,>=0.13 in /Users/xyz/Library/Python/3.9/lib/python/site-packages (from httpcore==1.*->httpx<1,>=0.23.0->anthropic) (0.14.0)\n",
      "\u001b[33mWARNING: You are using pip version 21.2.4; however, version 24.3.1 is available.\n",
      "You should consider upgrading via the '/Applications/Xcode.app/Contents/Developer/usr/bin/python3 -m pip install --upgrade pip' command.\u001b[0m\n",
      "Note: you may need to restart the kernel to use updated packages.\n",
      "Defaulting to user installation because normal site-packages is not writeable\n",
      "Collecting python-dotenv\n",
      "  Downloading python_dotenv-1.0.1-py3-none-any.whl (19 kB)\n",
      "Installing collected packages: python-dotenv\n",
      "Successfully installed python-dotenv-1.0.1\n",
      "\u001b[33mWARNING: You are using pip version 21.2.4; however, version 24.3.1 is available.\n",
      "You should consider upgrading via the '/Applications/Xcode.app/Contents/Developer/usr/bin/python3 -m pip install --upgrade pip' command.\u001b[0m\n",
      "Note: you may need to restart the kernel to use updated packages.\n"
     ]
    }
   ],
   "source": [
    "%pip install anthropic pydantic 'pydantic[email]'\n",
    "%pip install python-dotenv"
   ]
  },
  {
   "cell_type": "code",
   "execution_count": 17,
   "metadata": {},
   "outputs": [],
   "source": [
    "from anthropic import Anthropic\n",
    "from pydantic import BaseModel, EmailStr, Field\n",
    "from typing import Optional\n",
    "from dotenv import load_dotenv\n",
    "\n",
    "load_dotenv()\n",
    "\n",
    "client = Anthropic()\n",
    "MODEL_NAME = \"claude-3-opus-20240229\""
   ]
  },
  {
   "cell_type": "markdown",
   "metadata": {},
   "source": [
    "## Step 2: Define the Pydantic models\n",
    "\n",
    "We'll define Pydantic models to represent the expected schema for the note, author, and the model's response. This will allow us to validate and type-check the model's response when saving a note."
   ]
  },
  {
   "cell_type": "code",
   "execution_count": 18,
   "metadata": {},
   "outputs": [],
   "source": [
    "class Author(BaseModel):\n",
    "    name: str\n",
    "    email: EmailStr\n",
    "\n",
    "class Note(BaseModel):\n",
    "    note: str\n",
    "    author: Author\n",
    "    tags: Optional[list[str]] = None\n",
    "    priority: int = Field(ge=1, le=5, default=3)\n",
    "    is_public: bool = False\n",
    "\n",
    "class SaveNoteResponse(BaseModel):\n",
    "    success: bool\n",
    "    message: str"
   ]
  },
  {
   "cell_type": "markdown",
   "metadata": {},
   "source": [
    "## Step 3: Define the client-side tool\n",
    "\n",
    "Next, we'll define the client-side tool that our chatbot will use to save notes."
   ]
  },
  {
   "cell_type": "code",
   "execution_count": 19,
   "metadata": {},
   "outputs": [],
   "source": [
    "tools = [\n",
    "    {\n",
    "        \"name\": \"save_note\",\n",
    "        \"description\": \"A tool that saves a note with the author and metadata.\",\n",
    "        \"input_schema\": {\n",
    "            \"type\": \"object\",\n",
    "            \"properties\": {\n",
    "                \"note\": {\n",
    "                    \"type\": \"string\",\n",
    "                    \"description\": \"The content of the note to be saved.\"\n",
    "                },\n",
    "                \"author\": {\n",
    "                    \"type\": \"object\",\n",
    "                    \"properties\": {\n",
    "                        \"name\": {\n",
    "                            \"type\": \"string\",\n",
    "                            \"description\": \"The name of the author.\"\n",
    "                        },\n",
    "                        \"email\": {\n",
    "                            \"type\": \"string\",\n",
    "                            \"format\": \"email\",\n",
    "                            \"description\": \"The email address of the author.\"\n",
    "                        }\n",
    "                    },\n",
    "                    \"required\": [\"name\", \"email\"]\n",
    "                },\n",
    "                \"priority\": {\n",
    "                    \"type\": \"integer\",\n",
    "                    \"minimum\": 1,\n",
    "                    \"maximum\": 5,\n",
    "                    \"default\": 3,\n",
    "                    \"description\": \"The priority level of the note (1-5).\"\n",
    "                },\n",
    "                \"is_public\": {\n",
    "                    \"type\": \"boolean\",\n",
    "                    \"default\": False,\n",
    "                    \"description\": \"Indicates whether the note is publicly accessible.\"\n",
    "                }\n",
    "            },\n",
    "            \"required\": [\"note\", \"author\"]\n",
    "        }\n",
    "    }\n",
    "]"
   ]
  },
  {
   "cell_type": "markdown",
   "metadata": {},
   "source": [
    "## Step 4: Implement the note-saving tool\n",
    "We'll create a dummy note saving function that just prints out that the note was saved successfully. If you actually want this note to be saved somewhere, you can implement this function."
   ]
  },
  {
   "cell_type": "code",
   "execution_count": 20,
   "metadata": {},
   "outputs": [],
   "source": [
    "def save_note(note: str, author: dict, priority: int = 3, is_public: bool = False) -> None:\n",
    "    print(\"Note saved successfully!\")"
   ]
  },
  {
   "cell_type": "markdown",
   "metadata": {},
   "source": [
    "## Step 5: Process the tool call and generate the response\n",
    "We'll create functions to process the tool call made by Claude and generate the response indicating the success of saving the note."
   ]
  },
  {
   "cell_type": "code",
   "execution_count": 21,
   "metadata": {},
   "outputs": [],
   "source": [
    "def process_tool_call(tool_name, tool_input):\n",
    "    if tool_name == \"save_note\":\n",
    "        note = Note(\n",
    "            note=tool_input[\"note\"],\n",
    "            author=Author(\n",
    "                name=tool_input[\"author\"][\"name\"],\n",
    "                email=tool_input[\"author\"][\"email\"]\n",
    "            ),\n",
    "            priority=tool_input.get(\"priority\", 3),\n",
    "            is_public=tool_input.get(\"is_public\", False)\n",
    "        )\n",
    "        save_note(note.note, note.author.model_dump(), note.priority, note.is_public)\n",
    "        return SaveNoteResponse(success=True, message=\"Note saved successfully!\")\n",
    "\n",
    "def generate_response(save_note_response):\n",
    "    return f\"Response: {save_note_response.message}\""
   ]
  },
  {
   "cell_type": "markdown",
   "metadata": {},
   "source": [
    "## Step 6: Interact with the chatbot\n",
    "\n",
    "Now, let's create a function to interact with the chatbot. We'll send a user message, process the tool call made by Claude, generate the response, validate the model's response using Pydantic, and return the final response to the user."
   ]
  },
  {
   "cell_type": "code",
   "execution_count": 22,
   "metadata": {},
   "outputs": [],
   "source": [
    "def chatbot_interaction(user_message):\n",
    "    print(f\"\\n{'='*50}\\nUser Message: {user_message}\\n{'='*50}\")\n",
    "\n",
    "    messages = [\n",
    "        {\"role\": \"user\", \"content\": user_message}\n",
    "    ]\n",
    "\n",
    "    message = client.messages.create(\n",
    "        model=MODEL_NAME,\n",
    "        max_tokens=4096,\n",
    "        tools=tools,\n",
    "        messages=messages\n",
    "    )\n",
    "\n",
    "    print(f\"\\nInitial Response:\")\n",
    "    print(f\"Stop Reason: {message.stop_reason}\")\n",
    "    print(f\"Content: {message.content}\")\n",
    "\n",
    "    if message.stop_reason == \"tool_use\":\n",
    "        tool_use = next(block for block in message.content if block.type == \"tool_use\")\n",
    "        tool_name = tool_use.name\n",
    "        tool_input = tool_use.input\n",
    "\n",
    "        print(f\"\\nTool Used: {tool_name}\")\n",
    "        print(f\"Tool Input: {tool_input}\")\n",
    "\n",
    "        save_note_response = process_tool_call(tool_name, tool_input)\n",
    "\n",
    "\n",
    "        print(f\"Tool Result: {save_note_response}\")\n",
    "\n",
    "        response = client.messages.create(\n",
    "            model=MODEL_NAME,\n",
    "            max_tokens=4096,\n",
    "            messages=[\n",
    "                {\"role\": \"user\", \"content\": user_message},\n",
    "                {\"role\": \"assistant\", \"content\": message.content},\n",
    "                {\n",
    "                    \"role\": \"user\",\n",
    "                    \"content\": [\n",
    "                        {\n",
    "                            \"type\": \"tool_result\",\n",
    "                            \"tool_use_id\": tool_use.id,\n",
    "                            \"content\": str(save_note_response),\n",
    "                        }\n",
    "                    ],\n",
    "                },\n",
    "            ],\n",
    "            tools=tools,\n",
    "        )\n",
    "    else:\n",
    "        response = message\n",
    "\n",
    "    final_response = next(\n",
    "        (block.text for block in response.content if hasattr(block, \"text\")),\n",
    "        None,\n",
    "    )\n",
    "    print(response.content)\n",
    "    print(f\"\\nFinal Response: {final_response}\")\n",
    "\n",
    "    return final_response"
   ]
  },
  {
   "cell_type": "markdown",
   "metadata": {},
   "source": [
    "## Step 7: Test the chatbot\n",
    "Let's test our chatbot with a sample query to save a note."
   ]
  },
  {
   "cell_type": "code",
   "execution_count": 23,
   "metadata": {},
   "outputs": [
    {
     "name": "stdout",
     "output_type": "stream",
     "text": [
      "\n",
      "==================================================\n",
      "User Message: \n",
      "Can you save a private note with the following details?\n",
      "Note: Remember to buy milk and eggs.\n",
      "Author: John Doe (johndoe@gmail.com)\n",
      "Priority: 4\n",
      "\n",
      "==================================================\n",
      "\n",
      "Initial Response:\n",
      "Stop Reason: tool_use\n",
      "Content: [TextBlock(text='<thinking>\\nThe provided save_note tool seems relevant for this request. Let\\'s check if we have all the required parameters:\\n\\n- note: \"Remember to buy milk and eggs.\" - This is directly provided by the user.\\n- author: An author object is provided with name \"John Doe\" and email \"johndoe@gmail.com\". This covers the required name and email properties.\\n\\nThe is_public and priority parameters are optional. The user specified a priority of 4, which is a valid value between 1-5. They did not specify is_public, so it will default to false for a private note.\\n\\nSince all the required parameters are available, we can proceed with calling the save_note tool.\\n</thinking>', type='text'), ToolUseBlock(id='toolu_01KRGGTTCBL1yv8o5rPvZjkz', input={'note': 'Remember to buy milk and eggs.', 'author': {'name': 'John Doe', 'email': 'johndoe@gmail.com'}, 'priority': 4}, name='save_note', type='tool_use')]\n",
      "\n",
      "Tool Used: save_note\n",
      "Tool Input: {'note': 'Remember to buy milk and eggs.', 'author': {'name': 'John Doe', 'email': 'johndoe@gmail.com'}, 'priority': 4}\n",
      "Note saved successfully!\n",
      "Tool Result: success=True message='Note saved successfully!'\n",
      "[TextBlock(text='Your private note has been saved successfully with the following details:\\n\\nNote: Remember to buy milk and eggs. \\nAuthor: John Doe (johndoe@gmail.com)\\nPriority: 4\\n\\nPlease let me know if you need anything else!', type='text')]\n",
      "\n",
      "Final Response: Your private note has been saved successfully with the following details:\n",
      "\n",
      "Note: Remember to buy milk and eggs. \n",
      "Author: John Doe (johndoe@gmail.com)\n",
      "Priority: 4\n",
      "\n",
      "Please let me know if you need anything else!\n"
     ]
    },
    {
     "data": {
      "text/plain": [
       "'Your private note has been saved successfully with the following details:\\n\\nNote: Remember to buy milk and eggs. \\nAuthor: John Doe (johndoe@gmail.com)\\nPriority: 4\\n\\nPlease let me know if you need anything else!'"
      ]
     },
     "execution_count": 23,
     "metadata": {},
     "output_type": "execute_result"
    }
   ],
   "source": [
    "chatbot_interaction(\"\"\"\n",
    "Can you save a private note with the following details?\n",
    "Note: Remember to buy milk and eggs.\n",
    "Author: John Doe (johndoe@gmail.com)\n",
    "Priority: 4\n",
    "\"\"\")"
   ]
  },
  {
   "cell_type": "markdown",
   "metadata": {},
   "source": [
    "In this example, we've created a tool that saves a note with the author and metadata. The chatbot uses the save_note tool to save the note, and Pydantic is used to validate the model's response when calling the tool. The Note, Author, and SaveNoteResponse models ensure that the tool input and the model's response conform to the expected schema.\n",
    "\n",
    "By defining clear Pydantic models and using them to validate the model's response, we add an extra layer of reliability and safety when interacting with the chatbot and saving notes."
   ]
  }
 ],
 "metadata": {
  "kernelspec": {
   "display_name": "Python 3",
   "language": "python",
   "name": "python3"
  },
  "language_info": {
   "codemirror_mode": {
    "name": "ipython",
    "version": 3
   },
   "file_extension": ".py",
   "mimetype": "text/x-python",
   "name": "python",
   "nbconvert_exporter": "python",
   "pygments_lexer": "ipython3",
   "version": "3.9.6"
  }
 },
 "nbformat": 4,
 "nbformat_minor": 2
}
